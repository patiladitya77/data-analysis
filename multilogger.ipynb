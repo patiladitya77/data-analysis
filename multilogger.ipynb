{
 "cells": [
  {
   "metadata": {},
   "cell_type": "markdown",
   "source": [
    "#### Logging with Multiple Loggers\n",
    "You can create multiple loggers for different parts of your application."
   ],
   "id": "f2c1d91a4875e519"
  },
  {
   "metadata": {
    "ExecuteTime": {
     "end_time": "2025-10-07T16:03:21.096440Z",
     "start_time": "2025-10-07T16:03:21.086726Z"
    }
   },
   "cell_type": "code",
   "source": [
    "import logging\n",
    "## create a logger for module1\n",
    "logger1=logging.getLogger(\"module1\")\n",
    "logger1.setLevel(logging.DEBUG)\n",
    "\n",
    "##create a logger for module 2\n",
    "\n",
    "logger2=logging.getLogger(\"module2\")\n",
    "logger2.setLevel(logging.WARNING)\n",
    "\n",
    "# Configure logging settings\n",
    "logging.basicConfig(\n",
    "    level=logging.DEBUG,\n",
    "    format='%(asctime)s - %(name)s - %(levelname)s - %(message)s',\n",
    "    datefmt='%Y-%m-%d %H:%M:%S'\n",
    ")"
   ],
   "id": "d155223c5af46ec1",
   "outputs": [],
   "execution_count": 1
  },
  {
   "metadata": {
    "ExecuteTime": {
     "end_time": "2025-10-07T16:03:23.337877Z",
     "start_time": "2025-10-07T16:03:23.320566Z"
    }
   },
   "cell_type": "code",
   "source": [
    "## log message with different loggers\n",
    "logger1.debug(\"This is debug message for module1\")\n",
    "logger2.warning(\"This is a warning message for module 2\")\n",
    "logger2.error(\"This is an error message\")"
   ],
   "id": "1b3a195e7f6b6595",
   "outputs": [
    {
     "name": "stderr",
     "output_type": "stream",
     "text": [
      "2025-10-07 21:33:23 - module1 - DEBUG - This is debug message for module1\n",
      "2025-10-07 21:33:23 - module2 - WARNING - This is a warning message for module 2\n",
      "2025-10-07 21:33:23 - module2 - ERROR - This is an error message\n"
     ]
    }
   ],
   "execution_count": 2
  }
 ],
 "metadata": {
  "kernelspec": {
   "display_name": "Python 3",
   "language": "python",
   "name": "python3"
  },
  "language_info": {
   "codemirror_mode": {
    "name": "ipython",
    "version": 2
   },
   "file_extension": ".py",
   "mimetype": "text/x-python",
   "name": "python",
   "nbconvert_exporter": "python",
   "pygments_lexer": "ipython2",
   "version": "2.7.6"
  }
 },
 "nbformat": 4,
 "nbformat_minor": 5
}
