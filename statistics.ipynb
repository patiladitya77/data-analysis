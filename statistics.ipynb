{
 "cells": [
  {
   "cell_type": "code",
   "id": "initial_id",
   "metadata": {
    "collapsed": true,
    "ExecuteTime": {
     "end_time": "2025-10-05T18:59:01.947013Z",
     "start_time": "2025-10-05T18:59:01.662150Z"
    }
   },
   "source": [
    "import numpy as np\n",
    "# normalization => to have a mean of 0 and sd of 1\n",
    "data=np.array([1,2,3,4,5])\n",
    "\n",
    "#calculate mean and sd\n",
    "mean=np.mean(data)\n",
    "sd=np.std(data)\n",
    "\n",
    "# normalize the data\n",
    "normalizedData=(data - mean)/sd\n",
    "print(normalizedData)"
   ],
   "outputs": [
    {
     "name": "stdout",
     "output_type": "stream",
     "text": [
      "[-1.41421356 -0.70710678  0.          0.70710678  1.41421356]\n"
     ]
    }
   ],
   "execution_count": 1
  },
  {
   "metadata": {
    "ExecuteTime": {
     "end_time": "2025-10-05T19:01:32.819957Z",
     "start_time": "2025-10-05T19:01:32.805285Z"
    }
   },
   "cell_type": "code",
   "source": [
    "arr=np.array([1,2,3,4,5])\n",
    "mean=np.mean(arr)\n",
    "print(\"mean: \",mean)\n",
    "sd=np.std(arr)\n",
    "print(\"sd\",sd)\n",
    "median=np.median(arr)\n",
    "print(\"median\",median)\n",
    "variance=np.var(arr)\n",
    "print(\"variance\",variance)\n"
   ],
   "id": "a55ea218652b606",
   "outputs": [
    {
     "name": "stdout",
     "output_type": "stream",
     "text": [
      "mean:  3.0\n",
      "sd 1.4142135623730951\n",
      "median 3.0\n",
      "variance 2.0\n"
     ]
    }
   ],
   "execution_count": 2
  },
  {
   "metadata": {
    "ExecuteTime": {
     "end_time": "2025-10-05T19:09:22.510283Z",
     "start_time": "2025-10-05T19:09:22.494112Z"
    }
   },
   "cell_type": "code",
   "source": [
    "# logical operation\n",
    "arr=np.array([1,2,3,4,5,6,7,8,9,10])\n",
    "print(arr>5)\n",
    "print(arr[arr>5])"
   ],
   "id": "b8a7e7d4fcc48718",
   "outputs": [
    {
     "name": "stdout",
     "output_type": "stream",
     "text": [
      "[False False False False False  True  True  True  True  True]\n",
      "[ 6  7  8  9 10]\n"
     ]
    }
   ],
   "execution_count": 6
  }
 ],
 "metadata": {
  "kernelspec": {
   "display_name": "Python 3",
   "language": "python",
   "name": "python3"
  },
  "language_info": {
   "codemirror_mode": {
    "name": "ipython",
    "version": 2
   },
   "file_extension": ".py",
   "mimetype": "text/x-python",
   "name": "python",
   "nbconvert_exporter": "python",
   "pygments_lexer": "ipython2",
   "version": "2.7.6"
  }
 },
 "nbformat": 4,
 "nbformat_minor": 5
}
