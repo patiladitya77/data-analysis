{
 "cells": [
  {
   "cell_type": "code",
   "id": "initial_id",
   "metadata": {
    "collapsed": true,
    "ExecuteTime": {
     "end_time": "2025-10-06T02:36:33.367935Z",
     "start_time": "2025-10-06T02:36:33.345096Z"
    }
   },
   "source": [
    "import pandas as pd\n",
    "# series\n",
    "data=[1,2,3,4,5]\n",
    "series=pd.Series(data)\n",
    "print(series)\n",
    "\n",
    "# series for dictionary\n",
    "dict={\"a\":1,\"b\":2,\"c\":3}\n",
    "dictSeries=pd.Series(dict)\n",
    "print(dictSeries)\n",
    "\n",
    "data1=[10,20,30,40,50]\n",
    "index=[\"f\",\"g\",\"h\",\"i\",\"j\"]\n",
    "print(pd.Series(data1,index=index))"
   ],
   "outputs": [
    {
     "name": "stdout",
     "output_type": "stream",
     "text": [
      "0    1\n",
      "1    2\n",
      "2    3\n",
      "3    4\n",
      "4    5\n",
      "dtype: int64\n",
      "a    1\n",
      "b    2\n",
      "c    3\n",
      "dtype: int64\n",
      "f    10\n",
      "g    20\n",
      "h    30\n",
      "i    40\n",
      "j    50\n",
      "dtype: int64\n"
     ]
    }
   ],
   "execution_count": 5
  },
  {
   "metadata": {
    "ExecuteTime": {
     "end_time": "2025-10-06T02:45:45.547834Z",
     "start_time": "2025-10-06T02:45:45.523222Z"
    }
   },
   "cell_type": "code",
   "source": [
    "# create a dataframe from a dictionary of list\n",
    "data={\n",
    "    \"name\":[\"aditya\",\"krish\",\"jack\"],\n",
    "    \"age\":[22,34,23],\n",
    "    \"city\":[\"Mumbai\",\"banglore\",\"florida\"]\n",
    "\n",
    "}\n",
    "df=pd.DataFrame(data)\n",
    "print(df)"
   ],
   "id": "7c2bc5cbe1bd22a2",
   "outputs": [
    {
     "name": "stdout",
     "output_type": "stream",
     "text": [
      "     name  age      city\n",
      "0  aditya   22    Mumbai\n",
      "1   krish   34  banglore\n",
      "2    jack   23   florida\n"
     ]
    }
   ],
   "execution_count": 6
  },
  {
   "metadata": {
    "ExecuteTime": {
     "end_time": "2025-10-06T02:48:07.231652Z",
     "start_time": "2025-10-06T02:48:07.218161Z"
    }
   },
   "cell_type": "code",
   "source": [
    "# create a dataframe from list of dictionary\n",
    "data=[\n",
    "    {\"name\":\"aditya\",\"age\":22,\"city\":\"Mumbai\"},\n",
    "    {\"name\":\"krish\",\"age\":34,\"city\":\"Florida\"},\n",
    "    {\"name\":\"jack\",\"age\":22,\"city\":\"Florida\"},\n",
    "]\n",
    "df=pd.DataFrame(data)\n",
    "print(df)"
   ],
   "id": "2bf826043dac4890",
   "outputs": [
    {
     "name": "stdout",
     "output_type": "stream",
     "text": [
      "     name  age     city\n",
      "0  aditya   22   Mumbai\n",
      "1   krish   34  Florida\n",
      "2    jack   22  Florida\n"
     ]
    }
   ],
   "execution_count": 7
  },
  {
   "metadata": {
    "ExecuteTime": {
     "end_time": "2025-10-06T13:46:04.382370Z",
     "start_time": "2025-10-06T13:46:04.348993Z"
    }
   },
   "cell_type": "code",
   "source": [
    "import pandas as pd\n",
    "df = pd.read_csv(\"Car_sales.csv\")\n",
    "print(df.head(5))   # first 5 entries\n",
    "print(df.tail(5))   # last 5 entries"
   ],
   "id": "dd081c554bc0b09a",
   "outputs": [
    {
     "name": "stdout",
     "output_type": "stream",
     "text": [
      "  Manufacturer    Model  Sales_in_thousands  __year_resale_value Vehicle_type  \\\n",
      "0        Acura  Integra              16.919               16.360    Passenger   \n",
      "1        Acura       TL              39.384               19.875    Passenger   \n",
      "2        Acura       CL              14.114               18.225    Passenger   \n",
      "3        Acura       RL               8.588               29.725    Passenger   \n",
      "4         Audi       A4              20.397               22.255    Passenger   \n",
      "\n",
      "   Price_in_thousands  Engine_size  Horsepower  Wheelbase  Width  Length  \\\n",
      "0               21.50          1.8       140.0      101.2   67.3   172.4   \n",
      "1               28.40          3.2       225.0      108.1   70.3   192.9   \n",
      "2                 NaN          3.2       225.0      106.9   70.6   192.0   \n",
      "3               42.00          3.5       210.0      114.6   71.4   196.6   \n",
      "4               23.99          1.8       150.0      102.6   68.2   178.0   \n",
      "\n",
      "   Curb_weight  Fuel_capacity  Fuel_efficiency Latest_Launch  \\\n",
      "0        2.639           13.2             28.0      2/2/2012   \n",
      "1        3.517           17.2             25.0      6/3/2011   \n",
      "2        3.470           17.2             26.0      1/4/2012   \n",
      "3        3.850           18.0             22.0     3/10/2011   \n",
      "4        2.998           16.4             27.0     10/8/2011   \n",
      "\n",
      "   Power_perf_factor  \n",
      "0          58.280150  \n",
      "1          91.370778  \n",
      "2                NaN  \n",
      "3          91.389779  \n",
      "4          62.777639  \n",
      "    Manufacturer Model  Sales_in_thousands  __year_resale_value Vehicle_type  \\\n",
      "152        Volvo   V40               3.545                  NaN    Passenger   \n",
      "153        Volvo   S70              15.245                  NaN    Passenger   \n",
      "154        Volvo   V70              17.531                  NaN    Passenger   \n",
      "155        Volvo   C70               3.493                  NaN    Passenger   \n",
      "156        Volvo   S80              18.969                  NaN    Passenger   \n",
      "\n",
      "     Price_in_thousands  Engine_size  Horsepower  Wheelbase  Width  Length  \\\n",
      "152                24.4          1.9       160.0      100.5   67.6   176.6   \n",
      "153                27.5          2.4       168.0      104.9   69.3   185.9   \n",
      "154                28.8          2.4       168.0      104.9   69.3   186.2   \n",
      "155                45.5          2.3       236.0      104.9   71.5   185.7   \n",
      "156                36.0          2.9       201.0      109.9   72.1   189.8   \n",
      "\n",
      "     Curb_weight  Fuel_capacity  Fuel_efficiency Latest_Launch  \\\n",
      "152        3.042           15.8             25.0     9/21/2011   \n",
      "153        3.208           17.9             25.0    11/24/2012   \n",
      "154        3.259           17.9             25.0     6/25/2011   \n",
      "155        3.601           18.5             23.0     4/26/2011   \n",
      "156        3.600           21.1             24.0    11/14/2011   \n",
      "\n",
      "     Power_perf_factor  \n",
      "152          66.498812  \n",
      "153          70.654495  \n",
      "154          71.155978  \n",
      "155         101.623357  \n",
      "156          85.735655  \n"
     ]
    }
   ],
   "execution_count": 4
  },
  {
   "metadata": {
    "ExecuteTime": {
     "end_time": "2025-10-06T13:50:11.199863Z",
     "start_time": "2025-10-06T13:50:11.185647Z"
    }
   },
   "cell_type": "code",
   "source": [
    "data=[\n",
    "    {\"name\":\"aditya\",\"age\":22,\"city\":\"Mumbai\"},\n",
    "    {\"name\":\"krish\",\"age\":34,\"city\":\"Florida\"},\n",
    "    {\"name\":\"jack\",\"age\":22,\"city\":\"Florida\"},\n",
    "]\n",
    "df=pd.DataFrame(data)\n",
    "print(df.loc[0])    #0th row\n",
    "print(\"\\n\")\n",
    "print(df.iloc[0])   #oth column\n",
    "print(\"\\n\")\n",
    "print(df[\"name\"])"
   ],
   "id": "b0eddf1cc2876a44",
   "outputs": [
    {
     "name": "stdout",
     "output_type": "stream",
     "text": [
      "name    aditya\n",
      "age         22\n",
      "city    Mumbai\n",
      "Name: 0, dtype: object\n",
      "\n",
      "\n",
      "name    aditya\n",
      "age         22\n",
      "city    Mumbai\n",
      "Name: 0, dtype: object\n",
      "\n",
      "\n",
      "0    aditya\n",
      "1     krish\n",
      "2      jack\n",
      "Name: name, dtype: object\n"
     ]
    }
   ],
   "execution_count": 8
  },
  {
   "metadata": {
    "ExecuteTime": {
     "end_time": "2025-10-06T14:01:32.859156Z",
     "start_time": "2025-10-06T14:01:32.840687Z"
    }
   },
   "cell_type": "code",
   "source": [
    " # accesing a specified element\n",
    "data=[\n",
    "    {\"name\":\"aditya\",\"age\":22,\"city\":\"Mumbai\"},\n",
    "    {\"name\":\"krish\",\"age\":34,\"city\":\"banglore\"},\n",
    "    {\"name\":\"jack\",\"age\":22,\"city\":\"Florida\"},\n",
    "]\n",
    "df=pd.DataFrame(data)\n",
    "print(df)\n",
    "print(df.at[2,\"age\"])\n",
    "print(df.at[1,\"name\"])\n",
    "\n",
    "# accesing using iat\n",
    "print(df.iat[2,2]) # both row and column index are given"
   ],
   "id": "10235ff290c6d5cf",
   "outputs": [
    {
     "name": "stdout",
     "output_type": "stream",
     "text": [
      "     name  age      city\n",
      "0  aditya   22    Mumbai\n",
      "1   krish   34  banglore\n",
      "2    jack   22   Florida\n",
      "22\n",
      "krish\n",
      "Florida\n"
     ]
    }
   ],
   "execution_count": 16
  },
  {
   "metadata": {
    "ExecuteTime": {
     "end_time": "2025-10-06T14:07:55.678191Z",
     "start_time": "2025-10-06T14:07:55.632793Z"
    }
   },
   "cell_type": "code",
   "source": [
    "# data maniplulation with pandas\n",
    "df\n"
   ],
   "id": "75afd086172e1b41",
   "outputs": [
    {
     "data": {
      "text/plain": [
       "     name  age      city\n",
       "0  aditya   22    Mumbai\n",
       "1   krish   34  banglore\n",
       "2    jack   22   Florida"
      ],
      "text/html": [
       "<div>\n",
       "<style scoped>\n",
       "    .dataframe tbody tr th:only-of-type {\n",
       "        vertical-align: middle;\n",
       "    }\n",
       "\n",
       "    .dataframe tbody tr th {\n",
       "        vertical-align: top;\n",
       "    }\n",
       "\n",
       "    .dataframe thead th {\n",
       "        text-align: right;\n",
       "    }\n",
       "</style>\n",
       "<table border=\"1\" class=\"dataframe\">\n",
       "  <thead>\n",
       "    <tr style=\"text-align: right;\">\n",
       "      <th></th>\n",
       "      <th>name</th>\n",
       "      <th>age</th>\n",
       "      <th>city</th>\n",
       "    </tr>\n",
       "  </thead>\n",
       "  <tbody>\n",
       "    <tr>\n",
       "      <th>0</th>\n",
       "      <td>aditya</td>\n",
       "      <td>22</td>\n",
       "      <td>Mumbai</td>\n",
       "    </tr>\n",
       "    <tr>\n",
       "      <th>1</th>\n",
       "      <td>krish</td>\n",
       "      <td>34</td>\n",
       "      <td>banglore</td>\n",
       "    </tr>\n",
       "    <tr>\n",
       "      <th>2</th>\n",
       "      <td>jack</td>\n",
       "      <td>22</td>\n",
       "      <td>Florida</td>\n",
       "    </tr>\n",
       "  </tbody>\n",
       "</table>\n",
       "</div>"
      ]
     },
     "execution_count": 17,
     "metadata": {},
     "output_type": "execute_result"
    }
   ],
   "execution_count": 17
  },
  {
   "metadata": {
    "ExecuteTime": {
     "end_time": "2025-10-06T14:08:44.816306Z",
     "start_time": "2025-10-06T14:08:44.790548Z"
    }
   },
   "cell_type": "code",
   "source": [
    "# adding a new column\n",
    "df[\"salary\"]=[300,400,500]\n",
    "df"
   ],
   "id": "d18fee1672ee01c5",
   "outputs": [
    {
     "data": {
      "text/plain": [
       "     name  age      city  salary\n",
       "0  aditya   22    Mumbai     300\n",
       "1   krish   34  banglore     400\n",
       "2    jack   22   Florida     500"
      ],
      "text/html": [
       "<div>\n",
       "<style scoped>\n",
       "    .dataframe tbody tr th:only-of-type {\n",
       "        vertical-align: middle;\n",
       "    }\n",
       "\n",
       "    .dataframe tbody tr th {\n",
       "        vertical-align: top;\n",
       "    }\n",
       "\n",
       "    .dataframe thead th {\n",
       "        text-align: right;\n",
       "    }\n",
       "</style>\n",
       "<table border=\"1\" class=\"dataframe\">\n",
       "  <thead>\n",
       "    <tr style=\"text-align: right;\">\n",
       "      <th></th>\n",
       "      <th>name</th>\n",
       "      <th>age</th>\n",
       "      <th>city</th>\n",
       "      <th>salary</th>\n",
       "    </tr>\n",
       "  </thead>\n",
       "  <tbody>\n",
       "    <tr>\n",
       "      <th>0</th>\n",
       "      <td>aditya</td>\n",
       "      <td>22</td>\n",
       "      <td>Mumbai</td>\n",
       "      <td>300</td>\n",
       "    </tr>\n",
       "    <tr>\n",
       "      <th>1</th>\n",
       "      <td>krish</td>\n",
       "      <td>34</td>\n",
       "      <td>banglore</td>\n",
       "      <td>400</td>\n",
       "    </tr>\n",
       "    <tr>\n",
       "      <th>2</th>\n",
       "      <td>jack</td>\n",
       "      <td>22</td>\n",
       "      <td>Florida</td>\n",
       "      <td>500</td>\n",
       "    </tr>\n",
       "  </tbody>\n",
       "</table>\n",
       "</div>"
      ]
     },
     "execution_count": 19,
     "metadata": {},
     "output_type": "execute_result"
    }
   ],
   "execution_count": 19
  },
  {
   "metadata": {
    "ExecuteTime": {
     "end_time": "2025-10-06T14:24:40.416427Z",
     "start_time": "2025-10-06T14:24:40.137542Z"
    }
   },
   "cell_type": "code",
   "source": [
    "# deleting a column\n",
    "df.drop(\"salary\",axis=1,inplace=True) # axis => by default it has row index, so it cannot find salary. inplace=> deletes permenantly, if no inplace param then it will delete temporariliy\n"
   ],
   "id": "e2af1acfdbc7ab6",
   "outputs": [
    {
     "ename": "KeyError",
     "evalue": "\"['salary'] not found in axis\"",
     "output_type": "error",
     "traceback": [
      "\u001B[31m---------------------------------------------------------------------------\u001B[39m",
      "\u001B[31mKeyError\u001B[39m                                  Traceback (most recent call last)",
      "\u001B[36mCell\u001B[39m\u001B[36m \u001B[39m\u001B[32mIn[22]\u001B[39m\u001B[32m, line 2\u001B[39m\n\u001B[32m      1\u001B[39m \u001B[38;5;66;03m# deleting a column\u001B[39;00m\n\u001B[32m----> \u001B[39m\u001B[32m2\u001B[39m \u001B[43mdf\u001B[49m\u001B[43m.\u001B[49m\u001B[43mdrop\u001B[49m\u001B[43m(\u001B[49m\u001B[33;43m\"\u001B[39;49m\u001B[33;43msalary\u001B[39;49m\u001B[33;43m\"\u001B[39;49m\u001B[43m,\u001B[49m\u001B[43maxis\u001B[49m\u001B[43m=\u001B[49m\u001B[32;43m1\u001B[39;49m\u001B[43m,\u001B[49m\u001B[43minplace\u001B[49m\u001B[43m=\u001B[49m\u001B[38;5;28;43;01mTrue\u001B[39;49;00m\u001B[43m)\u001B[49m \u001B[38;5;66;03m# axis => by default it has row index, so it cannot find salary. inplace=> deletes permenantly, if no inplace param then it will delete temporariliy\u001B[39;00m\n\u001B[32m      3\u001B[39m \u001B[38;5;28mprint\u001B[39m(df)\n",
      "\u001B[36mFile \u001B[39m\u001B[32m~\\Documents\\python\\python tutorial\\dataanalysis\\venv\\Lib\\site-packages\\pandas\\core\\frame.py:5603\u001B[39m, in \u001B[36mDataFrame.drop\u001B[39m\u001B[34m(self, labels, axis, index, columns, level, inplace, errors)\u001B[39m\n\u001B[32m   5455\u001B[39m \u001B[38;5;28;01mdef\u001B[39;00m\u001B[38;5;250m \u001B[39m\u001B[34mdrop\u001B[39m(\n\u001B[32m   5456\u001B[39m     \u001B[38;5;28mself\u001B[39m,\n\u001B[32m   5457\u001B[39m     labels: IndexLabel | \u001B[38;5;28;01mNone\u001B[39;00m = \u001B[38;5;28;01mNone\u001B[39;00m,\n\u001B[32m   (...)\u001B[39m\u001B[32m   5464\u001B[39m     errors: IgnoreRaise = \u001B[33m\"\u001B[39m\u001B[33mraise\u001B[39m\u001B[33m\"\u001B[39m,\n\u001B[32m   5465\u001B[39m ) -> DataFrame | \u001B[38;5;28;01mNone\u001B[39;00m:\n\u001B[32m   5466\u001B[39m \u001B[38;5;250m    \u001B[39m\u001B[33;03m\"\"\"\u001B[39;00m\n\u001B[32m   5467\u001B[39m \u001B[33;03m    Drop specified labels from rows or columns.\u001B[39;00m\n\u001B[32m   5468\u001B[39m \n\u001B[32m   (...)\u001B[39m\u001B[32m   5601\u001B[39m \u001B[33;03m            weight  1.0     0.8\u001B[39;00m\n\u001B[32m   5602\u001B[39m \u001B[33;03m    \"\"\"\u001B[39;00m\n\u001B[32m-> \u001B[39m\u001B[32m5603\u001B[39m     \u001B[38;5;28;01mreturn\u001B[39;00m \u001B[38;5;28;43msuper\u001B[39;49m\u001B[43m(\u001B[49m\u001B[43m)\u001B[49m\u001B[43m.\u001B[49m\u001B[43mdrop\u001B[49m\u001B[43m(\u001B[49m\n\u001B[32m   5604\u001B[39m \u001B[43m        \u001B[49m\u001B[43mlabels\u001B[49m\u001B[43m=\u001B[49m\u001B[43mlabels\u001B[49m\u001B[43m,\u001B[49m\n\u001B[32m   5605\u001B[39m \u001B[43m        \u001B[49m\u001B[43maxis\u001B[49m\u001B[43m=\u001B[49m\u001B[43maxis\u001B[49m\u001B[43m,\u001B[49m\n\u001B[32m   5606\u001B[39m \u001B[43m        \u001B[49m\u001B[43mindex\u001B[49m\u001B[43m=\u001B[49m\u001B[43mindex\u001B[49m\u001B[43m,\u001B[49m\n\u001B[32m   5607\u001B[39m \u001B[43m        \u001B[49m\u001B[43mcolumns\u001B[49m\u001B[43m=\u001B[49m\u001B[43mcolumns\u001B[49m\u001B[43m,\u001B[49m\n\u001B[32m   5608\u001B[39m \u001B[43m        \u001B[49m\u001B[43mlevel\u001B[49m\u001B[43m=\u001B[49m\u001B[43mlevel\u001B[49m\u001B[43m,\u001B[49m\n\u001B[32m   5609\u001B[39m \u001B[43m        \u001B[49m\u001B[43minplace\u001B[49m\u001B[43m=\u001B[49m\u001B[43minplace\u001B[49m\u001B[43m,\u001B[49m\n\u001B[32m   5610\u001B[39m \u001B[43m        \u001B[49m\u001B[43merrors\u001B[49m\u001B[43m=\u001B[49m\u001B[43merrors\u001B[49m\u001B[43m,\u001B[49m\n\u001B[32m   5611\u001B[39m \u001B[43m    \u001B[49m\u001B[43m)\u001B[49m\n",
      "\u001B[36mFile \u001B[39m\u001B[32m~\\Documents\\python\\python tutorial\\dataanalysis\\venv\\Lib\\site-packages\\pandas\\core\\generic.py:4810\u001B[39m, in \u001B[36mNDFrame.drop\u001B[39m\u001B[34m(self, labels, axis, index, columns, level, inplace, errors)\u001B[39m\n\u001B[32m   4808\u001B[39m \u001B[38;5;28;01mfor\u001B[39;00m axis, labels \u001B[38;5;129;01min\u001B[39;00m axes.items():\n\u001B[32m   4809\u001B[39m     \u001B[38;5;28;01mif\u001B[39;00m labels \u001B[38;5;129;01mis\u001B[39;00m \u001B[38;5;129;01mnot\u001B[39;00m \u001B[38;5;28;01mNone\u001B[39;00m:\n\u001B[32m-> \u001B[39m\u001B[32m4810\u001B[39m         obj = \u001B[43mobj\u001B[49m\u001B[43m.\u001B[49m\u001B[43m_drop_axis\u001B[49m\u001B[43m(\u001B[49m\u001B[43mlabels\u001B[49m\u001B[43m,\u001B[49m\u001B[43m \u001B[49m\u001B[43maxis\u001B[49m\u001B[43m,\u001B[49m\u001B[43m \u001B[49m\u001B[43mlevel\u001B[49m\u001B[43m=\u001B[49m\u001B[43mlevel\u001B[49m\u001B[43m,\u001B[49m\u001B[43m \u001B[49m\u001B[43merrors\u001B[49m\u001B[43m=\u001B[49m\u001B[43merrors\u001B[49m\u001B[43m)\u001B[49m\n\u001B[32m   4812\u001B[39m \u001B[38;5;28;01mif\u001B[39;00m inplace:\n\u001B[32m   4813\u001B[39m     \u001B[38;5;28mself\u001B[39m._update_inplace(obj)\n",
      "\u001B[36mFile \u001B[39m\u001B[32m~\\Documents\\python\\python tutorial\\dataanalysis\\venv\\Lib\\site-packages\\pandas\\core\\generic.py:4852\u001B[39m, in \u001B[36mNDFrame._drop_axis\u001B[39m\u001B[34m(self, labels, axis, level, errors, only_slice)\u001B[39m\n\u001B[32m   4850\u001B[39m         new_axis = axis.drop(labels, level=level, errors=errors)\n\u001B[32m   4851\u001B[39m     \u001B[38;5;28;01melse\u001B[39;00m:\n\u001B[32m-> \u001B[39m\u001B[32m4852\u001B[39m         new_axis = \u001B[43maxis\u001B[49m\u001B[43m.\u001B[49m\u001B[43mdrop\u001B[49m\u001B[43m(\u001B[49m\u001B[43mlabels\u001B[49m\u001B[43m,\u001B[49m\u001B[43m \u001B[49m\u001B[43merrors\u001B[49m\u001B[43m=\u001B[49m\u001B[43merrors\u001B[49m\u001B[43m)\u001B[49m\n\u001B[32m   4853\u001B[39m     indexer = axis.get_indexer(new_axis)\n\u001B[32m   4855\u001B[39m \u001B[38;5;66;03m# Case for non-unique axis\u001B[39;00m\n\u001B[32m   4856\u001B[39m \u001B[38;5;28;01melse\u001B[39;00m:\n",
      "\u001B[36mFile \u001B[39m\u001B[32m~\\Documents\\python\\python tutorial\\dataanalysis\\venv\\Lib\\site-packages\\pandas\\core\\indexes\\base.py:7136\u001B[39m, in \u001B[36mIndex.drop\u001B[39m\u001B[34m(self, labels, errors)\u001B[39m\n\u001B[32m   7134\u001B[39m \u001B[38;5;28;01mif\u001B[39;00m mask.any():\n\u001B[32m   7135\u001B[39m     \u001B[38;5;28;01mif\u001B[39;00m errors != \u001B[33m\"\u001B[39m\u001B[33mignore\u001B[39m\u001B[33m\"\u001B[39m:\n\u001B[32m-> \u001B[39m\u001B[32m7136\u001B[39m         \u001B[38;5;28;01mraise\u001B[39;00m \u001B[38;5;167;01mKeyError\u001B[39;00m(\u001B[33mf\u001B[39m\u001B[33m\"\u001B[39m\u001B[38;5;132;01m{\u001B[39;00mlabels[mask].tolist()\u001B[38;5;132;01m}\u001B[39;00m\u001B[33m not found in axis\u001B[39m\u001B[33m\"\u001B[39m)\n\u001B[32m   7137\u001B[39m     indexer = indexer[~mask]\n\u001B[32m   7138\u001B[39m \u001B[38;5;28;01mreturn\u001B[39;00m \u001B[38;5;28mself\u001B[39m.delete(indexer)\n",
      "\u001B[31mKeyError\u001B[39m: \"['salary'] not found in axis\""
     ]
    }
   ],
   "execution_count": 22
  },
  {
   "metadata": {
    "ExecuteTime": {
     "end_time": "2025-10-06T14:25:03.929230Z",
     "start_time": "2025-10-06T14:25:03.916839Z"
    }
   },
   "cell_type": "code",
   "source": "print(df)",
   "id": "1b0fcb645f14f1b8",
   "outputs": [
    {
     "name": "stdout",
     "output_type": "stream",
     "text": [
      "     name  age      city\n",
      "0  aditya   22    Mumbai\n",
      "1   krish   34  banglore\n",
      "2    jack   22   Florida\n"
     ]
    }
   ],
   "execution_count": 23
  },
  {
   "metadata": {
    "ExecuteTime": {
     "end_time": "2025-10-06T14:26:23.676694Z",
     "start_time": "2025-10-06T14:26:23.667038Z"
    }
   },
   "cell_type": "code",
   "source": [
    "# increment age of all\n",
    "df[\"age\"]=df[\"age\"]+1\n",
    "df"
   ],
   "id": "f4fe0f31bd17570b",
   "outputs": [
    {
     "data": {
      "text/plain": [
       "     name  age      city\n",
       "0  aditya   23    Mumbai\n",
       "1   krish   35  banglore\n",
       "2    jack   23   Florida"
      ],
      "text/html": [
       "<div>\n",
       "<style scoped>\n",
       "    .dataframe tbody tr th:only-of-type {\n",
       "        vertical-align: middle;\n",
       "    }\n",
       "\n",
       "    .dataframe tbody tr th {\n",
       "        vertical-align: top;\n",
       "    }\n",
       "\n",
       "    .dataframe thead th {\n",
       "        text-align: right;\n",
       "    }\n",
       "</style>\n",
       "<table border=\"1\" class=\"dataframe\">\n",
       "  <thead>\n",
       "    <tr style=\"text-align: right;\">\n",
       "      <th></th>\n",
       "      <th>name</th>\n",
       "      <th>age</th>\n",
       "      <th>city</th>\n",
       "    </tr>\n",
       "  </thead>\n",
       "  <tbody>\n",
       "    <tr>\n",
       "      <th>0</th>\n",
       "      <td>aditya</td>\n",
       "      <td>23</td>\n",
       "      <td>Mumbai</td>\n",
       "    </tr>\n",
       "    <tr>\n",
       "      <th>1</th>\n",
       "      <td>krish</td>\n",
       "      <td>35</td>\n",
       "      <td>banglore</td>\n",
       "    </tr>\n",
       "    <tr>\n",
       "      <th>2</th>\n",
       "      <td>jack</td>\n",
       "      <td>23</td>\n",
       "      <td>Florida</td>\n",
       "    </tr>\n",
       "  </tbody>\n",
       "</table>\n",
       "</div>"
      ]
     },
     "execution_count": 24,
     "metadata": {},
     "output_type": "execute_result"
    }
   ],
   "execution_count": 24
  },
  {
   "metadata": {
    "ExecuteTime": {
     "end_time": "2025-10-06T14:27:40.383219Z",
     "start_time": "2025-10-06T14:27:40.373904Z"
    }
   },
   "cell_type": "code",
   "source": [
    "# delete row\n",
    "df.drop(0,inplace=True)"
   ],
   "id": "610e28124833571",
   "outputs": [],
   "execution_count": 27
  },
  {
   "metadata": {
    "ExecuteTime": {
     "end_time": "2025-10-06T14:28:46.642644Z",
     "start_time": "2025-10-06T14:28:46.603120Z"
    }
   },
   "cell_type": "code",
   "source": "df.describe()",
   "id": "67acb291c9ca32f4",
   "outputs": [
    {
     "data": {
      "text/plain": [
       "             age\n",
       "count   2.000000\n",
       "mean   29.000000\n",
       "std     8.485281\n",
       "min    23.000000\n",
       "25%    26.000000\n",
       "50%    29.000000\n",
       "75%    32.000000\n",
       "max    35.000000"
      ],
      "text/html": [
       "<div>\n",
       "<style scoped>\n",
       "    .dataframe tbody tr th:only-of-type {\n",
       "        vertical-align: middle;\n",
       "    }\n",
       "\n",
       "    .dataframe tbody tr th {\n",
       "        vertical-align: top;\n",
       "    }\n",
       "\n",
       "    .dataframe thead th {\n",
       "        text-align: right;\n",
       "    }\n",
       "</style>\n",
       "<table border=\"1\" class=\"dataframe\">\n",
       "  <thead>\n",
       "    <tr style=\"text-align: right;\">\n",
       "      <th></th>\n",
       "      <th>age</th>\n",
       "    </tr>\n",
       "  </thead>\n",
       "  <tbody>\n",
       "    <tr>\n",
       "      <th>count</th>\n",
       "      <td>2.000000</td>\n",
       "    </tr>\n",
       "    <tr>\n",
       "      <th>mean</th>\n",
       "      <td>29.000000</td>\n",
       "    </tr>\n",
       "    <tr>\n",
       "      <th>std</th>\n",
       "      <td>8.485281</td>\n",
       "    </tr>\n",
       "    <tr>\n",
       "      <th>min</th>\n",
       "      <td>23.000000</td>\n",
       "    </tr>\n",
       "    <tr>\n",
       "      <th>25%</th>\n",
       "      <td>26.000000</td>\n",
       "    </tr>\n",
       "    <tr>\n",
       "      <th>50%</th>\n",
       "      <td>29.000000</td>\n",
       "    </tr>\n",
       "    <tr>\n",
       "      <th>75%</th>\n",
       "      <td>32.000000</td>\n",
       "    </tr>\n",
       "    <tr>\n",
       "      <th>max</th>\n",
       "      <td>35.000000</td>\n",
       "    </tr>\n",
       "  </tbody>\n",
       "</table>\n",
       "</div>"
      ]
     },
     "execution_count": 29,
     "metadata": {},
     "output_type": "execute_result"
    }
   ],
   "execution_count": 29
  }
 ],
 "metadata": {
  "kernelspec": {
   "display_name": "Python 3",
   "language": "python",
   "name": "python3"
  },
  "language_info": {
   "codemirror_mode": {
    "name": "ipython",
    "version": 2
   },
   "file_extension": ".py",
   "mimetype": "text/x-python",
   "name": "python",
   "nbconvert_exporter": "python",
   "pygments_lexer": "ipython2",
   "version": "2.7.6"
  }
 },
 "nbformat": 4,
 "nbformat_minor": 5
}
