{
 "cells": [
  {
   "metadata": {
    "ExecuteTime": {
     "end_time": "2025-10-05T16:32:30.398833Z",
     "start_time": "2025-10-05T16:32:30.392408Z"
    }
   },
   "cell_type": "code",
   "source": [
    "import numpy as np\n",
    "# create array using numpy\n",
    "#cretae 1D array\n",
    "arr1=np.array([1,2,3,4])\n",
    "print(arr1)\n",
    "print(type(arr1))\n",
    "print(arr1.shape)\n",
    "print(arr1.ndim) # dimention\n",
    "print(arr1.size) # size(no.of elements)\n",
    "print(arr1.itemsize) # item size in bytes\n",
    "print(arr1.dtype)"
   ],
   "id": "788d221e6fe75d30",
   "outputs": [
    {
     "name": "stdout",
     "output_type": "stream",
     "text": [
      "[1 2 3 4]\n",
      "<class 'numpy.ndarray'>\n",
      "(4,)\n",
      "1\n",
      "4\n",
      "8\n",
      "int64\n"
     ]
    }
   ],
   "execution_count": 20
  },
  {
   "metadata": {
    "ExecuteTime": {
     "end_time": "2025-10-05T14:59:33.161495Z",
     "start_time": "2025-10-05T14:59:33.150017Z"
    }
   },
   "cell_type": "code",
   "source": [
    "arr2=np.array([1,2,3,4])\n",
    "arr2.reshape(1,4) # 1 row 5 columns"
   ],
   "id": "43fe78aacb583ff",
   "outputs": [
    {
     "data": {
      "text/plain": [
       "array([[1, 2, 3, 4]])"
      ]
     },
     "execution_count": 8,
     "metadata": {},
     "output_type": "execute_result"
    }
   ],
   "execution_count": 8
  },
  {
   "metadata": {
    "ExecuteTime": {
     "end_time": "2025-10-05T15:02:03.287151Z",
     "start_time": "2025-10-05T15:02:03.281156Z"
    }
   },
   "cell_type": "code",
   "source": [
    "#2D array\n",
    "arr3=np.array([[1,2,3,4],[5,6,7,8]])\n",
    "print(arr3)\n",
    "print(arr3.shape)"
   ],
   "id": "c7173fa1d5141bc0",
   "outputs": [
    {
     "name": "stdout",
     "output_type": "stream",
     "text": [
      "[[1 2 3 4]\n",
      " [5 6 7 8]]\n",
      "(2, 4)\n"
     ]
    }
   ],
   "execution_count": 10
  },
  {
   "metadata": {
    "ExecuteTime": {
     "end_time": "2025-10-05T16:45:15.352625Z",
     "start_time": "2025-10-05T16:45:15.347308Z"
    }
   },
   "cell_type": "code",
   "source": [
    "np.arange(0,10,2)\n",
    "np.arange(0,10,2).reshape(5,1)\n"
   ],
   "id": "f170c804bab5280",
   "outputs": [
    {
     "data": {
      "text/plain": [
       "array([[0],\n",
       "       [2],\n",
       "       [4],\n",
       "       [6],\n",
       "       [8]])"
      ]
     },
     "execution_count": 22,
     "metadata": {},
     "output_type": "execute_result"
    }
   ],
   "execution_count": 22
  },
  {
   "metadata": {
    "ExecuteTime": {
     "end_time": "2025-10-05T15:06:14.352602Z",
     "start_time": "2025-10-05T15:06:14.341697Z"
    }
   },
   "cell_type": "code",
   "source": "np.ones((3,4)) # creates 2D array with 3 rows, 4 columns and fill with 1",
   "id": "35651e9f1377288c",
   "outputs": [
    {
     "data": {
      "text/plain": [
       "array([[1., 1., 1., 1.],\n",
       "       [1., 1., 1., 1.],\n",
       "       [1., 1., 1., 1.]])"
      ]
     },
     "execution_count": 15,
     "metadata": {},
     "output_type": "execute_result"
    }
   ],
   "execution_count": 15
  },
  {
   "metadata": {
    "ExecuteTime": {
     "end_time": "2025-10-05T16:28:40.517996Z",
     "start_time": "2025-10-05T16:28:40.510250Z"
    }
   },
   "cell_type": "code",
   "source": [
    "#identity matrix\n",
    "np.eye(3)"
   ],
   "id": "70fb33651c4faa6e",
   "outputs": [
    {
     "data": {
      "text/plain": [
       "array([[1., 0., 0.],\n",
       "       [0., 1., 0.],\n",
       "       [0., 0., 1.]])"
      ]
     },
     "execution_count": 16,
     "metadata": {},
     "output_type": "execute_result"
    }
   ],
   "execution_count": 16
  }
 ],
 "metadata": {
  "kernelspec": {
   "display_name": "Python 3",
   "language": "python",
   "name": "python3"
  },
  "language_info": {
   "codemirror_mode": {
    "name": "ipython",
    "version": 2
   },
   "file_extension": ".py",
   "mimetype": "text/x-python",
   "name": "python",
   "nbconvert_exporter": "python",
   "pygments_lexer": "ipython2",
   "version": "2.7.6"
  }
 },
 "nbformat": 4,
 "nbformat_minor": 5
}
