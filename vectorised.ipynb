{
 "cells": [
  {
   "cell_type": "code",
   "id": "initial_id",
   "metadata": {
    "collapsed": true,
    "ExecuteTime": {
     "end_time": "2025-10-05T16:54:52.100823Z",
     "start_time": "2025-10-05T16:54:52.065161Z"
    }
   },
   "source": [
    "import  numpy as np\n",
    "# numpy vectorized operations\n",
    "#for these operations shape of both the vectors should be same\n",
    "arr1=np.array([1,2,3,4,5])\n",
    "arr2=np.array([10,20,30,40,50])\n",
    "print(\"addition: \",arr1+arr2)\n",
    "print(\"subtraction: \",arr1-arr2)\n",
    "print(\"multiplication: \",arr1*arr2)\n",
    "print(\"division: \",arr1/arr2)"
   ],
   "outputs": [
    {
     "name": "stdout",
     "output_type": "stream",
     "text": [
      "addition:  [11 22 33 44 55]\n",
      "subtraction:  [ -9 -18 -27 -36 -45]\n",
      "multiplication:  [ 10  40  90 160 250]\n",
      "division:  [0.1 0.1 0.1 0.1 0.1]\n"
     ]
    }
   ],
   "execution_count": 4
  },
  {
   "metadata": {
    "ExecuteTime": {
     "end_time": "2025-10-05T16:59:37.566631Z",
     "start_time": "2025-10-05T16:59:37.560572Z"
    }
   },
   "cell_type": "code",
   "source": [
    "# universal functions\n",
    "arr=np.array([2,3,4,5,6])\n",
    "\n",
    "print(np.sqrt(arr))  # square root\n",
    "print(np.exp(arr))  # exponential\n",
    "print(np.sin(arr))  # sine\n",
    "print(np.log(arr))  # natural log"
   ],
   "id": "ee9817a453598254",
   "outputs": [
    {
     "name": "stdout",
     "output_type": "stream",
     "text": [
      "[1.41421356 1.73205081 2.         2.23606798 2.44948974]\n",
      "[  7.3890561   20.08553692  54.59815003 148.4131591  403.42879349]\n",
      "[ 0.90929743  0.14112001 -0.7568025  -0.95892427 -0.2794155 ]\n",
      "[0.69314718 1.09861229 1.38629436 1.60943791 1.79175947]\n"
     ]
    }
   ],
   "execution_count": 5
  },
  {
   "metadata": {
    "ExecuteTime": {
     "end_time": "2025-10-05T17:08:50.417933Z",
     "start_time": "2025-10-05T17:08:50.407132Z"
    }
   },
   "cell_type": "code",
   "source": [
    "# array slicing and indexing\n",
    "arr = np.array([[1,2,3,4],[5,6,7,8],[9,10,11,12]])\n",
    "print(\"Array\\n\",arr)\n",
    "print(arr[0][0])\n",
    "print(arr[0:2,2:])\n",
    "print(arr[1:,2:])\n",
    "print(arr[1:,1:3])"
   ],
   "id": "907d1c1966015998",
   "outputs": [
    {
     "name": "stdout",
     "output_type": "stream",
     "text": [
      "Array\n",
      " [[ 1  2  3  4]\n",
      " [ 5  6  7  8]\n",
      " [ 9 10 11 12]]\n",
      "1\n",
      "[[3 4]\n",
      " [7 8]]\n",
      "[[ 7  8]\n",
      " [11 12]]\n",
      "[[ 6  7]\n",
      " [10 11]]\n"
     ]
    }
   ],
   "execution_count": 11
  },
  {
   "metadata": {
    "ExecuteTime": {
     "end_time": "2025-10-05T17:14:29.600323Z",
     "start_time": "2025-10-05T17:14:29.592373Z"
    }
   },
   "cell_type": "code",
   "source": [
    "#modify array elements\n",
    "arr[0,0]=100\n",
    "print(arr)\n",
    "arr[1:]=100 #all the rows after 1st will be 100\n",
    "print(arr)"
   ],
   "id": "df931fad7132e52b",
   "outputs": [
    {
     "name": "stdout",
     "output_type": "stream",
     "text": [
      "[[100   2   3   4]\n",
      " [  5   6   7   8]\n",
      " [  9  10  11  12]]\n",
      "[[100   2   3   4]\n",
      " [100 100 100 100]\n",
      " [100 100 100 100]]\n"
     ]
    }
   ],
   "execution_count": 13
  }
 ],
 "metadata": {
  "kernelspec": {
   "display_name": "Python 3",
   "language": "python",
   "name": "python3"
  },
  "language_info": {
   "codemirror_mode": {
    "name": "ipython",
    "version": 2
   },
   "file_extension": ".py",
   "mimetype": "text/x-python",
   "name": "python",
   "nbconvert_exporter": "python",
   "pygments_lexer": "ipython2",
   "version": "2.7.6"
  }
 },
 "nbformat": 4,
 "nbformat_minor": 5
}
